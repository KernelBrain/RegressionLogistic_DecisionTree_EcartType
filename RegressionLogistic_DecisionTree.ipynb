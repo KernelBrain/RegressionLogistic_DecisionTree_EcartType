{
 "cells": [
  {
   "cell_type": "code",
   "execution_count": 25,
   "metadata": {},
   "outputs": [],
   "source": [
    "#importer les packages necessaire\n",
    "import pandas as pd\n",
    "import numpy as np\n",
    "import matplotlib.pyplot as plt"
   ]
  },
  {
   "cell_type": "code",
   "execution_count": 26,
   "metadata": {},
   "outputs": [],
   "source": [
    "#importer les packages de machine learning\n",
    "from sklearn.model_selection import train_test_split\n",
    "from sklearn.linear_model import LogisticRegression\n",
    "from sklearn.metrics import confusion_matrix, recall_score, accuracy_score, classification_report, precision_score\n",
    "from sklearn.preprocessing import LabelEncoder\n",
    "from sklearn.tree import DecisionTreeClassifier"
   ]
  },
  {
   "cell_type": "code",
   "execution_count": 27,
   "metadata": {},
   "outputs": [],
   "source": [
    "#Chargement du DF\n",
    "df = pd.read_excel('Copie de Coeur.xlsx')"
   ]
  },
  {
   "cell_type": "code",
   "execution_count": 28,
   "metadata": {},
   "outputs": [],
   "source": [
    "#Travailler avec une copie du dataset pour éviter de le rechager en cas d'êrreur\n",
    "df = df.copy()"
   ]
  },
  {
   "cell_type": "code",
   "execution_count": 29,
   "metadata": {},
   "outputs": [
    {
     "name": "stdout",
     "output_type": "stream",
     "text": [
      "<class 'pandas.core.frame.DataFrame'>\n",
      "RangeIndex: 918 entries, 0 to 917\n",
      "Data columns (total 12 columns):\n",
      " #   Column       Non-Null Count  Dtype  \n",
      "---  ------       --------------  -----  \n",
      " 0   AGE          918 non-null    int64  \n",
      " 1   SEXE         918 non-null    object \n",
      " 2   TDT          918 non-null    object \n",
      " 3   PAR          918 non-null    int64  \n",
      " 4   CHOLESTEROL  918 non-null    int64  \n",
      " 5   GAJ          918 non-null    int64  \n",
      " 6   ECG          918 non-null    object \n",
      " 7   FCMAX        918 non-null    int64  \n",
      " 8   ANGINE       918 non-null    object \n",
      " 9   DEPRESSION   918 non-null    float64\n",
      " 10  PENTE        918 non-null    object \n",
      " 11  CŒUR         918 non-null    int64  \n",
      "dtypes: float64(1), int64(6), object(5)\n",
      "memory usage: 86.2+ KB\n"
     ]
    }
   ],
   "source": [
    "#Afficher les informations relatives au DF\n",
    "df.info()"
   ]
  },
  {
   "cell_type": "code",
   "execution_count": 30,
   "metadata": {},
   "outputs": [],
   "source": [
    "#Standardisation des variables quantitatives avec la fonction std()\n",
    "for col in df.drop('CŒUR', axis =1).select_dtypes(np.number).columns:\n",
    "    df[col] = df[col]-df[col].mean()/df[col].std()\n"
   ]
  },
  {
   "cell_type": "code",
   "execution_count": 31,
   "metadata": {},
   "outputs": [
    {
     "data": {
      "text/html": [
       "<div>\n",
       "<style scoped>\n",
       "    .dataframe tbody tr th:only-of-type {\n",
       "        vertical-align: middle;\n",
       "    }\n",
       "\n",
       "    .dataframe tbody tr th {\n",
       "        vertical-align: top;\n",
       "    }\n",
       "\n",
       "    .dataframe thead th {\n",
       "        text-align: right;\n",
       "    }\n",
       "</style>\n",
       "<table border=\"1\" class=\"dataframe\">\n",
       "  <thead>\n",
       "    <tr style=\"text-align: right;\">\n",
       "      <th></th>\n",
       "      <th>AGE</th>\n",
       "      <th>SEXE</th>\n",
       "      <th>TDT</th>\n",
       "      <th>PAR</th>\n",
       "      <th>CHOLESTEROL</th>\n",
       "      <th>GAJ</th>\n",
       "      <th>ECG</th>\n",
       "      <th>FCMAX</th>\n",
       "      <th>ANGINE</th>\n",
       "      <th>DEPRESSION</th>\n",
       "      <th>PENTE</th>\n",
       "      <th>CŒUR</th>\n",
       "    </tr>\n",
       "  </thead>\n",
       "  <tbody>\n",
       "    <tr>\n",
       "      <th>0</th>\n",
       "      <td>34.327036</td>\n",
       "      <td>homme</td>\n",
       "      <td>AA</td>\n",
       "      <td>132.848903</td>\n",
       "      <td>287.182556</td>\n",
       "      <td>-0.551041</td>\n",
       "      <td>Normal</td>\n",
       "      <td>166.626568</td>\n",
       "      <td>Non</td>\n",
       "      <td>-0.831979</td>\n",
       "      <td>Ascendant</td>\n",
       "      <td>0</td>\n",
       "    </tr>\n",
       "    <tr>\n",
       "      <th>1</th>\n",
       "      <td>43.327036</td>\n",
       "      <td>femme</td>\n",
       "      <td>DNA</td>\n",
       "      <td>152.848903</td>\n",
       "      <td>178.182556</td>\n",
       "      <td>-0.551041</td>\n",
       "      <td>Normal</td>\n",
       "      <td>150.626568</td>\n",
       "      <td>Non</td>\n",
       "      <td>0.168021</td>\n",
       "      <td>Plat</td>\n",
       "      <td>1</td>\n",
       "    </tr>\n",
       "    <tr>\n",
       "      <th>2</th>\n",
       "      <td>31.327036</td>\n",
       "      <td>homme</td>\n",
       "      <td>AA</td>\n",
       "      <td>122.848903</td>\n",
       "      <td>281.182556</td>\n",
       "      <td>-0.551041</td>\n",
       "      <td>ST</td>\n",
       "      <td>92.626568</td>\n",
       "      <td>Non</td>\n",
       "      <td>-0.831979</td>\n",
       "      <td>Ascendant</td>\n",
       "      <td>0</td>\n",
       "    </tr>\n",
       "    <tr>\n",
       "      <th>3</th>\n",
       "      <td>42.327036</td>\n",
       "      <td>femme</td>\n",
       "      <td>ASY</td>\n",
       "      <td>130.848903</td>\n",
       "      <td>212.182556</td>\n",
       "      <td>-0.551041</td>\n",
       "      <td>Normal</td>\n",
       "      <td>102.626568</td>\n",
       "      <td>Oui</td>\n",
       "      <td>0.668021</td>\n",
       "      <td>Plat</td>\n",
       "      <td>1</td>\n",
       "    </tr>\n",
       "    <tr>\n",
       "      <th>4</th>\n",
       "      <td>48.327036</td>\n",
       "      <td>homme</td>\n",
       "      <td>DNA</td>\n",
       "      <td>142.848903</td>\n",
       "      <td>193.182556</td>\n",
       "      <td>-0.551041</td>\n",
       "      <td>Normal</td>\n",
       "      <td>116.626568</td>\n",
       "      <td>Non</td>\n",
       "      <td>-0.831979</td>\n",
       "      <td>Ascendant</td>\n",
       "      <td>0</td>\n",
       "    </tr>\n",
       "  </tbody>\n",
       "</table>\n",
       "</div>"
      ],
      "text/plain": [
       "         AGE   SEXE  TDT         PAR  CHOLESTEROL       GAJ     ECG  \\\n",
       "0  34.327036  homme   AA  132.848903   287.182556 -0.551041  Normal   \n",
       "1  43.327036  femme  DNA  152.848903   178.182556 -0.551041  Normal   \n",
       "2  31.327036  homme   AA  122.848903   281.182556 -0.551041      ST   \n",
       "3  42.327036  femme  ASY  130.848903   212.182556 -0.551041  Normal   \n",
       "4  48.327036  homme  DNA  142.848903   193.182556 -0.551041  Normal   \n",
       "\n",
       "        FCMAX ANGINE  DEPRESSION       PENTE  CŒUR  \n",
       "0  166.626568    Non    -0.831979  Ascendant     0  \n",
       "1  150.626568    Non     0.168021       Plat     1  \n",
       "2   92.626568    Non    -0.831979  Ascendant     0  \n",
       "3  102.626568    Oui     0.668021       Plat     1  \n",
       "4  116.626568    Non    -0.831979  Ascendant     0  "
      ]
     },
     "execution_count": 31,
     "metadata": {},
     "output_type": "execute_result"
    }
   ],
   "source": [
    "#Vérification des résultats\n",
    "df.head()"
   ]
  },
  {
   "cell_type": "code",
   "execution_count": 32,
   "metadata": {},
   "outputs": [],
   "source": [
    "#Encodage des variables qualitatives\n",
    "for col in df.select_dtypes('object').columns:\n",
    "    df[col] = df[col].astype('category').cat.codes"
   ]
  },
  {
   "cell_type": "code",
   "execution_count": 33,
   "metadata": {},
   "outputs": [
    {
     "data": {
      "text/html": [
       "<div>\n",
       "<style scoped>\n",
       "    .dataframe tbody tr th:only-of-type {\n",
       "        vertical-align: middle;\n",
       "    }\n",
       "\n",
       "    .dataframe tbody tr th {\n",
       "        vertical-align: top;\n",
       "    }\n",
       "\n",
       "    .dataframe thead th {\n",
       "        text-align: right;\n",
       "    }\n",
       "</style>\n",
       "<table border=\"1\" class=\"dataframe\">\n",
       "  <thead>\n",
       "    <tr style=\"text-align: right;\">\n",
       "      <th></th>\n",
       "      <th>AGE</th>\n",
       "      <th>SEXE</th>\n",
       "      <th>TDT</th>\n",
       "      <th>PAR</th>\n",
       "      <th>CHOLESTEROL</th>\n",
       "      <th>GAJ</th>\n",
       "      <th>ECG</th>\n",
       "      <th>FCMAX</th>\n",
       "      <th>ANGINE</th>\n",
       "      <th>DEPRESSION</th>\n",
       "      <th>PENTE</th>\n",
       "      <th>CŒUR</th>\n",
       "    </tr>\n",
       "  </thead>\n",
       "  <tbody>\n",
       "    <tr>\n",
       "      <th>0</th>\n",
       "      <td>34.327036</td>\n",
       "      <td>1</td>\n",
       "      <td>0</td>\n",
       "      <td>132.848903</td>\n",
       "      <td>287.182556</td>\n",
       "      <td>-0.551041</td>\n",
       "      <td>1</td>\n",
       "      <td>166.626568</td>\n",
       "      <td>0</td>\n",
       "      <td>-0.831979</td>\n",
       "      <td>0</td>\n",
       "      <td>0</td>\n",
       "    </tr>\n",
       "    <tr>\n",
       "      <th>1</th>\n",
       "      <td>43.327036</td>\n",
       "      <td>0</td>\n",
       "      <td>3</td>\n",
       "      <td>152.848903</td>\n",
       "      <td>178.182556</td>\n",
       "      <td>-0.551041</td>\n",
       "      <td>1</td>\n",
       "      <td>150.626568</td>\n",
       "      <td>0</td>\n",
       "      <td>0.168021</td>\n",
       "      <td>2</td>\n",
       "      <td>1</td>\n",
       "    </tr>\n",
       "    <tr>\n",
       "      <th>2</th>\n",
       "      <td>31.327036</td>\n",
       "      <td>1</td>\n",
       "      <td>0</td>\n",
       "      <td>122.848903</td>\n",
       "      <td>281.182556</td>\n",
       "      <td>-0.551041</td>\n",
       "      <td>2</td>\n",
       "      <td>92.626568</td>\n",
       "      <td>0</td>\n",
       "      <td>-0.831979</td>\n",
       "      <td>0</td>\n",
       "      <td>0</td>\n",
       "    </tr>\n",
       "    <tr>\n",
       "      <th>3</th>\n",
       "      <td>42.327036</td>\n",
       "      <td>0</td>\n",
       "      <td>1</td>\n",
       "      <td>130.848903</td>\n",
       "      <td>212.182556</td>\n",
       "      <td>-0.551041</td>\n",
       "      <td>1</td>\n",
       "      <td>102.626568</td>\n",
       "      <td>1</td>\n",
       "      <td>0.668021</td>\n",
       "      <td>2</td>\n",
       "      <td>1</td>\n",
       "    </tr>\n",
       "    <tr>\n",
       "      <th>4</th>\n",
       "      <td>48.327036</td>\n",
       "      <td>1</td>\n",
       "      <td>3</td>\n",
       "      <td>142.848903</td>\n",
       "      <td>193.182556</td>\n",
       "      <td>-0.551041</td>\n",
       "      <td>1</td>\n",
       "      <td>116.626568</td>\n",
       "      <td>0</td>\n",
       "      <td>-0.831979</td>\n",
       "      <td>0</td>\n",
       "      <td>0</td>\n",
       "    </tr>\n",
       "  </tbody>\n",
       "</table>\n",
       "</div>"
      ],
      "text/plain": [
       "         AGE  SEXE  TDT         PAR  CHOLESTEROL       GAJ  ECG       FCMAX  \\\n",
       "0  34.327036     1    0  132.848903   287.182556 -0.551041    1  166.626568   \n",
       "1  43.327036     0    3  152.848903   178.182556 -0.551041    1  150.626568   \n",
       "2  31.327036     1    0  122.848903   281.182556 -0.551041    2   92.626568   \n",
       "3  42.327036     0    1  130.848903   212.182556 -0.551041    1  102.626568   \n",
       "4  48.327036     1    3  142.848903   193.182556 -0.551041    1  116.626568   \n",
       "\n",
       "   ANGINE  DEPRESSION   PENTE  CŒUR  \n",
       "0       0    -0.831979      0     0  \n",
       "1       0     0.168021      2     1  \n",
       "2       0    -0.831979      0     0  \n",
       "3       1     0.668021      2     1  \n",
       "4       0    -0.831979      0     0  "
      ]
     },
     "execution_count": 33,
     "metadata": {},
     "output_type": "execute_result"
    }
   ],
   "source": [
    "#Vérification des résultats\n",
    "df.head()"
   ]
  },
  {
   "cell_type": "code",
   "execution_count": 34,
   "metadata": {},
   "outputs": [],
   "source": [
    "#Séparer la variable cible (coeur) et les variables explicatives\n",
    "y = df['CŒUR']\n",
    "x = df.drop('CŒUR', axis = 1)"
   ]
  },
  {
   "cell_type": "code",
   "execution_count": 35,
   "metadata": {},
   "outputs": [],
   "source": [
    "#preparation des donnees de test et des donnees d'entrainememnt\n",
    "x_train, x_test, y_train, y_test = train_test_split(x,y,test_size =0.2, random_state =1)"
   ]
  },
  {
   "cell_type": "code",
   "execution_count": 36,
   "metadata": {},
   "outputs": [
    {
     "name": "stdout",
     "output_type": "stream",
     "text": [
      "(734, 11) (184, 11) (734,) (184,)\n"
     ]
    }
   ],
   "source": [
    "#Vérifier le résultat\n",
    "print(x_train.shape, x_test.shape, y_train.shape, y_test.shape)"
   ]
  },
  {
   "cell_type": "code",
   "execution_count": 37,
   "metadata": {},
   "outputs": [],
   "source": [
    "#Création d'un objet lr de la classe LogisticRegression\n",
    "lr = LogisticRegression(solver ='newton-cg', random_state =1)"
   ]
  },
  {
   "cell_type": "code",
   "execution_count": 38,
   "metadata": {},
   "outputs": [],
   "source": [
    "#Apprentissage du modèle\n",
    "model = lr.fit(x_train, y_train)"
   ]
  },
  {
   "cell_type": "code",
   "execution_count": 39,
   "metadata": {},
   "outputs": [
    {
     "data": {
      "text/plain": [
       "array([[0.34770612, 0.65229388],\n",
       "       [0.17508424, 0.82491576],\n",
       "       [0.03708029, 0.96291971],\n",
       "       [0.08135272, 0.91864728],\n",
       "       [0.18111693, 0.81888307]])"
      ]
     },
     "execution_count": 39,
     "metadata": {},
     "output_type": "execute_result"
    }
   ],
   "source": [
    "#Probabilité d'appartenance à l'une des classes\n",
    "predict_proba = model.predict_proba(x_test)\n",
    "predict_proba[:5,:]"
   ]
  },
  {
   "cell_type": "code",
   "execution_count": 40,
   "metadata": {},
   "outputs": [
    {
     "data": {
      "text/plain": [
       "array([1, 1, 1, 1, 1])"
      ]
     },
     "execution_count": 40,
     "metadata": {},
     "output_type": "execute_result"
    }
   ],
   "source": [
    "#Application du modèle au données de test\n",
    "y_pred = model.predict(x_test)\n",
    "y_pred[:5]"
   ]
  },
  {
   "cell_type": "code",
   "execution_count": 41,
   "metadata": {},
   "outputs": [
    {
     "data": {
      "text/plain": [
       "array([[ 66,   8],\n",
       "       [  8, 102]])"
      ]
     },
     "execution_count": 41,
     "metadata": {},
     "output_type": "execute_result"
    }
   ],
   "source": [
    "#matrice de confusion\n",
    "mc = confusion_matrix(y_test, y_pred)\n",
    "mc"
   ]
  },
  {
   "cell_type": "code",
   "execution_count": 42,
   "metadata": {},
   "outputs": [
    {
     "data": {
      "text/plain": [
       "0.9130434782608695"
      ]
     },
     "execution_count": 42,
     "metadata": {},
     "output_type": "execute_result"
    }
   ],
   "source": [
    "#Taux de bonnes prédictions\n",
    "accuracy = accuracy_score(y_test, y_pred)\n",
    "accuracy"
   ]
  },
  {
   "cell_type": "code",
   "execution_count": 43,
   "metadata": {},
   "outputs": [
    {
     "data": {
      "text/plain": [
       "0.9272727272727272"
      ]
     },
     "execution_count": 43,
     "metadata": {},
     "output_type": "execute_result"
    }
   ],
   "source": [
    "#Sensibilité\n",
    "recall = recall_score(y_test, y_pred)\n",
    "recall"
   ]
  },
  {
   "cell_type": "code",
   "execution_count": 44,
   "metadata": {},
   "outputs": [
    {
     "data": {
      "text/plain": [
       "0.9272727272727272"
      ]
     },
     "execution_count": 44,
     "metadata": {},
     "output_type": "execute_result"
    }
   ],
   "source": [
    "#Précision\n",
    "precision = precision_score(y_test, y_pred)\n",
    "precision"
   ]
  },
  {
   "cell_type": "code",
   "execution_count": 45,
   "metadata": {},
   "outputs": [
    {
     "name": "stdout",
     "output_type": "stream",
     "text": [
      "              precision    recall  f1-score   support\n",
      "\n",
      "           0       0.89      0.89      0.89        74\n",
      "           1       0.93      0.93      0.93       110\n",
      "\n",
      "    accuracy                           0.91       184\n",
      "   macro avg       0.91      0.91      0.91       184\n",
      "weighted avg       0.91      0.91      0.91       184\n",
      "\n"
     ]
    }
   ],
   "source": [
    "#plus de détails avec classification report\n",
    "cr = classification_report(y_test, y_pred)\n",
    "print(cr)"
   ]
  },
  {
   "cell_type": "code",
   "execution_count": 46,
   "metadata": {},
   "outputs": [
    {
     "data": {
      "text/plain": [
       "1    0.553377\n",
       "0    0.446623\n",
       "Name: CŒUR, dtype: float64"
      ]
     },
     "execution_count": 46,
     "metadata": {},
     "output_type": "execute_result"
    }
   ],
   "source": [
    "#Modèle Trival\n",
    "df['CŒUR'].value_counts()/df.shape[0]"
   ]
  },
  {
   "cell_type": "code",
   "execution_count": 47,
   "metadata": {},
   "outputs": [
    {
     "data": {
      "text/plain": [
       "0.8460490463215259"
      ]
     },
     "execution_count": 47,
     "metadata": {},
     "output_type": "execute_result"
    }
   ],
   "source": [
    "#Score d'entrainement (le taux de bonne prédiction calculé sur la base des données d'entrainement)\n",
    "model.score(x_train, y_train)"
   ]
  },
  {
   "cell_type": "code",
   "execution_count": 48,
   "metadata": {},
   "outputs": [
    {
     "data": {
      "text/plain": [
       "0.9130434782608695"
      ]
     },
     "execution_count": 48,
     "metadata": {},
     "output_type": "execute_result"
    }
   ],
   "source": [
    "#Score d'entrainement (le taux de bonne prédiction calculé sur la base des données de test)\n",
    "model.score(x_test, y_test)"
   ]
  },
  {
   "cell_type": "markdown",
   "metadata": {},
   "source": [
    "# La partie de DecisionTree"
   ]
  },
  {
   "cell_type": "code",
   "execution_count": 49,
   "metadata": {},
   "outputs": [
    {
     "data": {
      "text/html": [
       "<div>\n",
       "<style scoped>\n",
       "    .dataframe tbody tr th:only-of-type {\n",
       "        vertical-align: middle;\n",
       "    }\n",
       "\n",
       "    .dataframe tbody tr th {\n",
       "        vertical-align: top;\n",
       "    }\n",
       "\n",
       "    .dataframe thead th {\n",
       "        text-align: right;\n",
       "    }\n",
       "</style>\n",
       "<table border=\"1\" class=\"dataframe\">\n",
       "  <thead>\n",
       "    <tr style=\"text-align: right;\">\n",
       "      <th></th>\n",
       "      <th>AGE</th>\n",
       "      <th>SEXE</th>\n",
       "      <th>TDT</th>\n",
       "      <th>PAR</th>\n",
       "      <th>CHOLESTEROL</th>\n",
       "      <th>GAJ</th>\n",
       "      <th>ECG</th>\n",
       "      <th>FCMAX</th>\n",
       "      <th>ANGINE</th>\n",
       "      <th>DEPRESSION</th>\n",
       "      <th>PENTE</th>\n",
       "      <th>CŒUR</th>\n",
       "    </tr>\n",
       "  </thead>\n",
       "  <tbody>\n",
       "    <tr>\n",
       "      <th>0</th>\n",
       "      <td>34.327036</td>\n",
       "      <td>1</td>\n",
       "      <td>0</td>\n",
       "      <td>132.848903</td>\n",
       "      <td>287.182556</td>\n",
       "      <td>-0.551041</td>\n",
       "      <td>1</td>\n",
       "      <td>166.626568</td>\n",
       "      <td>0</td>\n",
       "      <td>-0.831979</td>\n",
       "      <td>0</td>\n",
       "      <td>0</td>\n",
       "    </tr>\n",
       "    <tr>\n",
       "      <th>1</th>\n",
       "      <td>43.327036</td>\n",
       "      <td>0</td>\n",
       "      <td>3</td>\n",
       "      <td>152.848903</td>\n",
       "      <td>178.182556</td>\n",
       "      <td>-0.551041</td>\n",
       "      <td>1</td>\n",
       "      <td>150.626568</td>\n",
       "      <td>0</td>\n",
       "      <td>0.168021</td>\n",
       "      <td>2</td>\n",
       "      <td>1</td>\n",
       "    </tr>\n",
       "    <tr>\n",
       "      <th>2</th>\n",
       "      <td>31.327036</td>\n",
       "      <td>1</td>\n",
       "      <td>0</td>\n",
       "      <td>122.848903</td>\n",
       "      <td>281.182556</td>\n",
       "      <td>-0.551041</td>\n",
       "      <td>2</td>\n",
       "      <td>92.626568</td>\n",
       "      <td>0</td>\n",
       "      <td>-0.831979</td>\n",
       "      <td>0</td>\n",
       "      <td>0</td>\n",
       "    </tr>\n",
       "    <tr>\n",
       "      <th>3</th>\n",
       "      <td>42.327036</td>\n",
       "      <td>0</td>\n",
       "      <td>1</td>\n",
       "      <td>130.848903</td>\n",
       "      <td>212.182556</td>\n",
       "      <td>-0.551041</td>\n",
       "      <td>1</td>\n",
       "      <td>102.626568</td>\n",
       "      <td>1</td>\n",
       "      <td>0.668021</td>\n",
       "      <td>2</td>\n",
       "      <td>1</td>\n",
       "    </tr>\n",
       "    <tr>\n",
       "      <th>4</th>\n",
       "      <td>48.327036</td>\n",
       "      <td>1</td>\n",
       "      <td>3</td>\n",
       "      <td>142.848903</td>\n",
       "      <td>193.182556</td>\n",
       "      <td>-0.551041</td>\n",
       "      <td>1</td>\n",
       "      <td>116.626568</td>\n",
       "      <td>0</td>\n",
       "      <td>-0.831979</td>\n",
       "      <td>0</td>\n",
       "      <td>0</td>\n",
       "    </tr>\n",
       "    <tr>\n",
       "      <th>...</th>\n",
       "      <td>...</td>\n",
       "      <td>...</td>\n",
       "      <td>...</td>\n",
       "      <td>...</td>\n",
       "      <td>...</td>\n",
       "      <td>...</td>\n",
       "      <td>...</td>\n",
       "      <td>...</td>\n",
       "      <td>...</td>\n",
       "      <td>...</td>\n",
       "      <td>...</td>\n",
       "      <td>...</td>\n",
       "    </tr>\n",
       "    <tr>\n",
       "      <th>913</th>\n",
       "      <td>39.327036</td>\n",
       "      <td>1</td>\n",
       "      <td>2</td>\n",
       "      <td>102.848903</td>\n",
       "      <td>262.182556</td>\n",
       "      <td>-0.551041</td>\n",
       "      <td>1</td>\n",
       "      <td>126.626568</td>\n",
       "      <td>0</td>\n",
       "      <td>0.368021</td>\n",
       "      <td>2</td>\n",
       "      <td>1</td>\n",
       "    </tr>\n",
       "    <tr>\n",
       "      <th>914</th>\n",
       "      <td>62.327036</td>\n",
       "      <td>1</td>\n",
       "      <td>1</td>\n",
       "      <td>136.848903</td>\n",
       "      <td>191.182556</td>\n",
       "      <td>0.448959</td>\n",
       "      <td>1</td>\n",
       "      <td>135.626568</td>\n",
       "      <td>0</td>\n",
       "      <td>2.568021</td>\n",
       "      <td>2</td>\n",
       "      <td>1</td>\n",
       "    </tr>\n",
       "    <tr>\n",
       "      <th>915</th>\n",
       "      <td>51.327036</td>\n",
       "      <td>1</td>\n",
       "      <td>1</td>\n",
       "      <td>122.848903</td>\n",
       "      <td>129.182556</td>\n",
       "      <td>-0.551041</td>\n",
       "      <td>1</td>\n",
       "      <td>109.626568</td>\n",
       "      <td>1</td>\n",
       "      <td>0.368021</td>\n",
       "      <td>2</td>\n",
       "      <td>1</td>\n",
       "    </tr>\n",
       "    <tr>\n",
       "      <th>916</th>\n",
       "      <td>51.327036</td>\n",
       "      <td>0</td>\n",
       "      <td>0</td>\n",
       "      <td>122.848903</td>\n",
       "      <td>234.182556</td>\n",
       "      <td>-0.551041</td>\n",
       "      <td>0</td>\n",
       "      <td>168.626568</td>\n",
       "      <td>0</td>\n",
       "      <td>-0.831979</td>\n",
       "      <td>2</td>\n",
       "      <td>1</td>\n",
       "    </tr>\n",
       "    <tr>\n",
       "      <th>917</th>\n",
       "      <td>32.327036</td>\n",
       "      <td>1</td>\n",
       "      <td>3</td>\n",
       "      <td>130.848903</td>\n",
       "      <td>173.182556</td>\n",
       "      <td>-0.551041</td>\n",
       "      <td>1</td>\n",
       "      <td>167.626568</td>\n",
       "      <td>0</td>\n",
       "      <td>-0.831979</td>\n",
       "      <td>0</td>\n",
       "      <td>0</td>\n",
       "    </tr>\n",
       "  </tbody>\n",
       "</table>\n",
       "<p>918 rows × 12 columns</p>\n",
       "</div>"
      ],
      "text/plain": [
       "           AGE  SEXE  TDT         PAR  CHOLESTEROL       GAJ  ECG       FCMAX  \\\n",
       "0    34.327036     1    0  132.848903   287.182556 -0.551041    1  166.626568   \n",
       "1    43.327036     0    3  152.848903   178.182556 -0.551041    1  150.626568   \n",
       "2    31.327036     1    0  122.848903   281.182556 -0.551041    2   92.626568   \n",
       "3    42.327036     0    1  130.848903   212.182556 -0.551041    1  102.626568   \n",
       "4    48.327036     1    3  142.848903   193.182556 -0.551041    1  116.626568   \n",
       "..         ...   ...  ...         ...          ...       ...  ...         ...   \n",
       "913  39.327036     1    2  102.848903   262.182556 -0.551041    1  126.626568   \n",
       "914  62.327036     1    1  136.848903   191.182556  0.448959    1  135.626568   \n",
       "915  51.327036     1    1  122.848903   129.182556 -0.551041    1  109.626568   \n",
       "916  51.327036     0    0  122.848903   234.182556 -0.551041    0  168.626568   \n",
       "917  32.327036     1    3  130.848903   173.182556 -0.551041    1  167.626568   \n",
       "\n",
       "     ANGINE  DEPRESSION   PENTE  CŒUR  \n",
       "0         0    -0.831979      0     0  \n",
       "1         0     0.168021      2     1  \n",
       "2         0    -0.831979      0     0  \n",
       "3         1     0.668021      2     1  \n",
       "4         0    -0.831979      0     0  \n",
       "..      ...          ...    ...   ...  \n",
       "913       0     0.368021      2     1  \n",
       "914       0     2.568021      2     1  \n",
       "915       1     0.368021      2     1  \n",
       "916       0    -0.831979      2     1  \n",
       "917       0    -0.831979      0     0  \n",
       "\n",
       "[918 rows x 12 columns]"
      ]
     },
     "execution_count": 49,
     "metadata": {},
     "output_type": "execute_result"
    }
   ],
   "source": [
    "df"
   ]
  },
  {
   "cell_type": "code",
   "execution_count": 50,
   "metadata": {},
   "outputs": [],
   "source": [
    "#faire une copie du dataset de base pour avoir un autre sur lequel je pourais appliquer mon arbre de décision \n",
    "df_DT = df.copy()"
   ]
  },
  {
   "cell_type": "code",
   "execution_count": 51,
   "metadata": {},
   "outputs": [
    {
     "data": {
      "text/html": [
       "<div>\n",
       "<style scoped>\n",
       "    .dataframe tbody tr th:only-of-type {\n",
       "        vertical-align: middle;\n",
       "    }\n",
       "\n",
       "    .dataframe tbody tr th {\n",
       "        vertical-align: top;\n",
       "    }\n",
       "\n",
       "    .dataframe thead th {\n",
       "        text-align: right;\n",
       "    }\n",
       "</style>\n",
       "<table border=\"1\" class=\"dataframe\">\n",
       "  <thead>\n",
       "    <tr style=\"text-align: right;\">\n",
       "      <th></th>\n",
       "      <th>AGE</th>\n",
       "      <th>SEXE</th>\n",
       "      <th>TDT</th>\n",
       "      <th>PAR</th>\n",
       "      <th>CHOLESTEROL</th>\n",
       "      <th>GAJ</th>\n",
       "      <th>ECG</th>\n",
       "      <th>FCMAX</th>\n",
       "      <th>ANGINE</th>\n",
       "      <th>DEPRESSION</th>\n",
       "      <th>PENTE</th>\n",
       "      <th>CŒUR</th>\n",
       "    </tr>\n",
       "  </thead>\n",
       "  <tbody>\n",
       "    <tr>\n",
       "      <th>0</th>\n",
       "      <td>34.327036</td>\n",
       "      <td>1</td>\n",
       "      <td>0</td>\n",
       "      <td>132.848903</td>\n",
       "      <td>287.182556</td>\n",
       "      <td>-0.551041</td>\n",
       "      <td>1</td>\n",
       "      <td>166.626568</td>\n",
       "      <td>0</td>\n",
       "      <td>-0.831979</td>\n",
       "      <td>0</td>\n",
       "      <td>0</td>\n",
       "    </tr>\n",
       "    <tr>\n",
       "      <th>1</th>\n",
       "      <td>43.327036</td>\n",
       "      <td>0</td>\n",
       "      <td>3</td>\n",
       "      <td>152.848903</td>\n",
       "      <td>178.182556</td>\n",
       "      <td>-0.551041</td>\n",
       "      <td>1</td>\n",
       "      <td>150.626568</td>\n",
       "      <td>0</td>\n",
       "      <td>0.168021</td>\n",
       "      <td>2</td>\n",
       "      <td>1</td>\n",
       "    </tr>\n",
       "    <tr>\n",
       "      <th>2</th>\n",
       "      <td>31.327036</td>\n",
       "      <td>1</td>\n",
       "      <td>0</td>\n",
       "      <td>122.848903</td>\n",
       "      <td>281.182556</td>\n",
       "      <td>-0.551041</td>\n",
       "      <td>2</td>\n",
       "      <td>92.626568</td>\n",
       "      <td>0</td>\n",
       "      <td>-0.831979</td>\n",
       "      <td>0</td>\n",
       "      <td>0</td>\n",
       "    </tr>\n",
       "    <tr>\n",
       "      <th>3</th>\n",
       "      <td>42.327036</td>\n",
       "      <td>0</td>\n",
       "      <td>1</td>\n",
       "      <td>130.848903</td>\n",
       "      <td>212.182556</td>\n",
       "      <td>-0.551041</td>\n",
       "      <td>1</td>\n",
       "      <td>102.626568</td>\n",
       "      <td>1</td>\n",
       "      <td>0.668021</td>\n",
       "      <td>2</td>\n",
       "      <td>1</td>\n",
       "    </tr>\n",
       "    <tr>\n",
       "      <th>4</th>\n",
       "      <td>48.327036</td>\n",
       "      <td>1</td>\n",
       "      <td>3</td>\n",
       "      <td>142.848903</td>\n",
       "      <td>193.182556</td>\n",
       "      <td>-0.551041</td>\n",
       "      <td>1</td>\n",
       "      <td>116.626568</td>\n",
       "      <td>0</td>\n",
       "      <td>-0.831979</td>\n",
       "      <td>0</td>\n",
       "      <td>0</td>\n",
       "    </tr>\n",
       "    <tr>\n",
       "      <th>5</th>\n",
       "      <td>33.327036</td>\n",
       "      <td>1</td>\n",
       "      <td>3</td>\n",
       "      <td>112.848903</td>\n",
       "      <td>337.182556</td>\n",
       "      <td>-0.551041</td>\n",
       "      <td>1</td>\n",
       "      <td>164.626568</td>\n",
       "      <td>0</td>\n",
       "      <td>-0.831979</td>\n",
       "      <td>0</td>\n",
       "      <td>0</td>\n",
       "    </tr>\n",
       "    <tr>\n",
       "      <th>6</th>\n",
       "      <td>39.327036</td>\n",
       "      <td>0</td>\n",
       "      <td>0</td>\n",
       "      <td>122.848903</td>\n",
       "      <td>235.182556</td>\n",
       "      <td>-0.551041</td>\n",
       "      <td>1</td>\n",
       "      <td>164.626568</td>\n",
       "      <td>0</td>\n",
       "      <td>-0.831979</td>\n",
       "      <td>0</td>\n",
       "      <td>0</td>\n",
       "    </tr>\n",
       "    <tr>\n",
       "      <th>7</th>\n",
       "      <td>48.327036</td>\n",
       "      <td>1</td>\n",
       "      <td>0</td>\n",
       "      <td>102.848903</td>\n",
       "      <td>206.182556</td>\n",
       "      <td>-0.551041</td>\n",
       "      <td>1</td>\n",
       "      <td>136.626568</td>\n",
       "      <td>0</td>\n",
       "      <td>-0.831979</td>\n",
       "      <td>0</td>\n",
       "      <td>0</td>\n",
       "    </tr>\n",
       "    <tr>\n",
       "      <th>8</th>\n",
       "      <td>31.327036</td>\n",
       "      <td>1</td>\n",
       "      <td>1</td>\n",
       "      <td>132.848903</td>\n",
       "      <td>205.182556</td>\n",
       "      <td>-0.551041</td>\n",
       "      <td>1</td>\n",
       "      <td>124.626568</td>\n",
       "      <td>1</td>\n",
       "      <td>0.668021</td>\n",
       "      <td>2</td>\n",
       "      <td>1</td>\n",
       "    </tr>\n",
       "    <tr>\n",
       "      <th>9</th>\n",
       "      <td>42.327036</td>\n",
       "      <td>0</td>\n",
       "      <td>0</td>\n",
       "      <td>112.848903</td>\n",
       "      <td>282.182556</td>\n",
       "      <td>-0.551041</td>\n",
       "      <td>1</td>\n",
       "      <td>114.626568</td>\n",
       "      <td>0</td>\n",
       "      <td>-0.831979</td>\n",
       "      <td>0</td>\n",
       "      <td>0</td>\n",
       "    </tr>\n",
       "  </tbody>\n",
       "</table>\n",
       "</div>"
      ],
      "text/plain": [
       "         AGE  SEXE  TDT         PAR  CHOLESTEROL       GAJ  ECG       FCMAX  \\\n",
       "0  34.327036     1    0  132.848903   287.182556 -0.551041    1  166.626568   \n",
       "1  43.327036     0    3  152.848903   178.182556 -0.551041    1  150.626568   \n",
       "2  31.327036     1    0  122.848903   281.182556 -0.551041    2   92.626568   \n",
       "3  42.327036     0    1  130.848903   212.182556 -0.551041    1  102.626568   \n",
       "4  48.327036     1    3  142.848903   193.182556 -0.551041    1  116.626568   \n",
       "5  33.327036     1    3  112.848903   337.182556 -0.551041    1  164.626568   \n",
       "6  39.327036     0    0  122.848903   235.182556 -0.551041    1  164.626568   \n",
       "7  48.327036     1    0  102.848903   206.182556 -0.551041    1  136.626568   \n",
       "8  31.327036     1    1  132.848903   205.182556 -0.551041    1  124.626568   \n",
       "9  42.327036     0    0  112.848903   282.182556 -0.551041    1  114.626568   \n",
       "\n",
       "   ANGINE  DEPRESSION   PENTE  CŒUR  \n",
       "0       0    -0.831979      0     0  \n",
       "1       0     0.168021      2     1  \n",
       "2       0    -0.831979      0     0  \n",
       "3       1     0.668021      2     1  \n",
       "4       0    -0.831979      0     0  \n",
       "5       0    -0.831979      0     0  \n",
       "6       0    -0.831979      0     0  \n",
       "7       0    -0.831979      0     0  \n",
       "8       1     0.668021      2     1  \n",
       "9       0    -0.831979      0     0  "
      ]
     },
     "execution_count": 51,
     "metadata": {},
     "output_type": "execute_result"
    }
   ],
   "source": [
    "df_DT.head(10)"
   ]
  },
  {
   "cell_type": "code",
   "execution_count": 52,
   "metadata": {},
   "outputs": [],
   "source": [
    "#Standardisation des variables quantitatives\n",
    "for col in df_DT.drop('CŒUR', axis =1).select_dtypes(np.number).columns:\n",
    "    df_DT[col] = df_DT[col]-df_DT[col].mean()/df_DT[col].max()"
   ]
  },
  {
   "cell_type": "code",
   "execution_count": 53,
   "metadata": {},
   "outputs": [
    {
     "data": {
      "text/html": [
       "<div>\n",
       "<style scoped>\n",
       "    .dataframe tbody tr th:only-of-type {\n",
       "        vertical-align: middle;\n",
       "    }\n",
       "\n",
       "    .dataframe tbody tr th {\n",
       "        vertical-align: top;\n",
       "    }\n",
       "\n",
       "    .dataframe thead th {\n",
       "        text-align: right;\n",
       "    }\n",
       "</style>\n",
       "<table border=\"1\" class=\"dataframe\">\n",
       "  <thead>\n",
       "    <tr style=\"text-align: right;\">\n",
       "      <th></th>\n",
       "      <th>AGE</th>\n",
       "      <th>SEXE</th>\n",
       "      <th>TDT</th>\n",
       "      <th>PAR</th>\n",
       "      <th>CHOLESTEROL</th>\n",
       "      <th>GAJ</th>\n",
       "      <th>ECG</th>\n",
       "      <th>FCMAX</th>\n",
       "      <th>ANGINE</th>\n",
       "      <th>DEPRESSION</th>\n",
       "      <th>PENTE</th>\n",
       "      <th>CŒUR</th>\n",
       "    </tr>\n",
       "  </thead>\n",
       "  <tbody>\n",
       "    <tr>\n",
       "      <th>0</th>\n",
       "      <td>33.656352</td>\n",
       "      <td>0.21024</td>\n",
       "      <td>-0.434641</td>\n",
       "      <td>132.199454</td>\n",
       "      <td>286.854898</td>\n",
       "      <td>0.157098</td>\n",
       "      <td>0.505447</td>\n",
       "      <td>165.958114</td>\n",
       "      <td>-0.404139</td>\n",
       "      <td>-0.842296</td>\n",
       "      <td>-0.535403</td>\n",
       "      <td>0</td>\n",
       "    </tr>\n",
       "    <tr>\n",
       "      <th>1</th>\n",
       "      <td>42.656352</td>\n",
       "      <td>-0.78976</td>\n",
       "      <td>2.565359</td>\n",
       "      <td>152.199454</td>\n",
       "      <td>177.854898</td>\n",
       "      <td>0.157098</td>\n",
       "      <td>0.505447</td>\n",
       "      <td>149.958114</td>\n",
       "      <td>-0.404139</td>\n",
       "      <td>0.157704</td>\n",
       "      <td>1.464597</td>\n",
       "      <td>1</td>\n",
       "    </tr>\n",
       "    <tr>\n",
       "      <th>2</th>\n",
       "      <td>30.656352</td>\n",
       "      <td>0.21024</td>\n",
       "      <td>-0.434641</td>\n",
       "      <td>122.199454</td>\n",
       "      <td>280.854898</td>\n",
       "      <td>0.157098</td>\n",
       "      <td>1.505447</td>\n",
       "      <td>91.958114</td>\n",
       "      <td>-0.404139</td>\n",
       "      <td>-0.842296</td>\n",
       "      <td>-0.535403</td>\n",
       "      <td>0</td>\n",
       "    </tr>\n",
       "    <tr>\n",
       "      <th>3</th>\n",
       "      <td>41.656352</td>\n",
       "      <td>-0.78976</td>\n",
       "      <td>0.565359</td>\n",
       "      <td>130.199454</td>\n",
       "      <td>211.854898</td>\n",
       "      <td>0.157098</td>\n",
       "      <td>0.505447</td>\n",
       "      <td>101.958114</td>\n",
       "      <td>0.595861</td>\n",
       "      <td>0.657704</td>\n",
       "      <td>1.464597</td>\n",
       "      <td>1</td>\n",
       "    </tr>\n",
       "    <tr>\n",
       "      <th>4</th>\n",
       "      <td>47.656352</td>\n",
       "      <td>0.21024</td>\n",
       "      <td>2.565359</td>\n",
       "      <td>142.199454</td>\n",
       "      <td>192.854898</td>\n",
       "      <td>0.157098</td>\n",
       "      <td>0.505447</td>\n",
       "      <td>115.958114</td>\n",
       "      <td>-0.404139</td>\n",
       "      <td>-0.842296</td>\n",
       "      <td>-0.535403</td>\n",
       "      <td>0</td>\n",
       "    </tr>\n",
       "  </tbody>\n",
       "</table>\n",
       "</div>"
      ],
      "text/plain": [
       "         AGE     SEXE       TDT         PAR  CHOLESTEROL       GAJ       ECG  \\\n",
       "0  33.656352  0.21024 -0.434641  132.199454   286.854898  0.157098  0.505447   \n",
       "1  42.656352 -0.78976  2.565359  152.199454   177.854898  0.157098  0.505447   \n",
       "2  30.656352  0.21024 -0.434641  122.199454   280.854898  0.157098  1.505447   \n",
       "3  41.656352 -0.78976  0.565359  130.199454   211.854898  0.157098  0.505447   \n",
       "4  47.656352  0.21024  2.565359  142.199454   192.854898  0.157098  0.505447   \n",
       "\n",
       "        FCMAX    ANGINE  DEPRESSION      PENTE  CŒUR  \n",
       "0  165.958114 -0.404139    -0.842296 -0.535403     0  \n",
       "1  149.958114 -0.404139     0.157704  1.464597     1  \n",
       "2   91.958114 -0.404139    -0.842296 -0.535403     0  \n",
       "3  101.958114  0.595861     0.657704  1.464597     1  \n",
       "4  115.958114 -0.404139    -0.842296 -0.535403     0  "
      ]
     },
     "execution_count": 53,
     "metadata": {},
     "output_type": "execute_result"
    }
   ],
   "source": [
    "#Vérification des résultats\n",
    "df_DT.head()"
   ]
  },
  {
   "cell_type": "code",
   "execution_count": 54,
   "metadata": {},
   "outputs": [],
   "source": [
    "#Encodage des variables qualitatives dans une variable le\n",
    "le = LabelEncoder()"
   ]
  },
  {
   "cell_type": "code",
   "execution_count": 55,
   "metadata": {},
   "outputs": [],
   "source": [
    "#creer une variable df_encoded qui va stocker notre dataframe encoder\n",
    "df_encoded=df.iloc[:,0:12]"
   ]
  },
  {
   "cell_type": "code",
   "execution_count": 56,
   "metadata": {},
   "outputs": [
    {
     "data": {
      "text/plain": [
       "array([0, 2, 0, 2, 0, 0, 0, 0, 2, 0, 0, 2, 0, 2, 0, 2, 2, 0, 2, 2, 0, 2,\n",
       "       0, 2, 0, 0, 2, 0, 0, 0, 2, 0, 2, 2, 0, 0, 2, 0, 0, 2, 0, 2, 0, 0,\n",
       "       2, 2, 0, 0, 2, 2, 2, 2, 0, 0, 2, 0, 2, 2, 0, 2, 0, 0, 0, 2, 0, 0,\n",
       "       0, 0, 2, 0, 2, 0, 2, 0, 2, 0, 2, 0, 0, 2, 0, 0, 2, 0, 2, 2, 2, 2,\n",
       "       2, 2, 0, 0, 0, 2, 0, 2, 0, 0, 0, 0, 2, 0, 2, 2, 2, 0, 0, 0, 0, 0,\n",
       "       2, 2, 0, 0, 0, 2, 2, 2, 0, 2, 2, 0, 0, 2, 0, 0, 0, 0, 0, 2, 0, 2,\n",
       "       2, 2, 2, 2, 0, 0, 2, 2, 2, 2, 2, 0, 2, 0, 0, 0, 0, 2, 0, 0, 0, 0,\n",
       "       0, 2, 2, 0, 2, 0, 2, 2, 0, 0, 0, 2, 2, 0, 0, 0, 0, 0, 0, 0, 2, 2,\n",
       "       2, 0, 0, 0, 2, 0, 2, 2, 0, 2, 0, 2, 2, 2, 0, 0, 0, 0, 0, 0, 2, 0,\n",
       "       2, 2, 0, 0, 0, 0, 0, 0, 0, 2, 0, 2, 2, 2, 0, 0, 2, 0, 2, 0, 0, 0,\n",
       "       2, 2, 0, 0, 0, 2, 0, 2, 0, 0, 0, 0, 0, 0, 0, 2, 2, 2, 2, 2, 0, 2,\n",
       "       2, 0, 2, 0, 2, 1, 2, 2, 2, 2, 0, 0, 2, 0, 0, 0, 0, 0, 0, 0, 2, 2,\n",
       "       2, 0, 2, 0, 2, 2, 0, 0, 2, 0, 0, 0, 2, 2, 2, 0, 0, 2, 0, 0, 0, 0,\n",
       "       0, 0, 0, 0, 0, 0, 0, 2, 0, 0, 2, 0, 2, 0, 2, 0, 0, 1, 2, 0, 2, 1,\n",
       "       0, 1, 0, 0, 0, 0, 1, 0, 2, 0, 2, 0, 2, 2, 0, 1, 2, 1, 0, 0, 2, 1,\n",
       "       0, 0, 0, 0, 0, 2, 2, 0, 0, 1, 1, 1, 2, 2, 2, 2, 2, 2, 2, 2, 2, 0,\n",
       "       1, 2, 0, 2, 2, 2, 2, 2, 2, 2, 2, 2, 2, 2, 2, 0, 2, 2, 0, 2, 0, 2,\n",
       "       1, 0, 2, 2, 2, 0, 2, 2, 2, 2, 2, 2, 2, 2, 2, 2, 2, 2, 2, 2, 2, 2,\n",
       "       2, 2, 0, 2, 2, 2, 2, 2, 2, 2, 2, 2, 2, 2, 2, 2, 2, 2, 2, 2, 2, 0,\n",
       "       1, 0, 2, 0, 2, 2, 0, 2, 0, 2, 2, 2, 2, 0, 1, 2, 1, 0, 0, 2, 2, 0,\n",
       "       0, 2, 2, 2, 2, 2, 2, 0, 2, 2, 1, 2, 2, 0, 2, 0, 2, 2, 2, 0, 2, 2,\n",
       "       1, 0, 1, 0, 2, 0, 0, 2, 2, 2, 2, 2, 0, 2, 0, 1, 2, 2, 2, 1, 0, 1,\n",
       "       2, 2, 0, 2, 0, 2, 2, 2, 2, 2, 2, 2, 1, 1, 2, 2, 1, 2, 2, 0, 1, 2,\n",
       "       2, 0, 1, 2, 0, 2, 0, 2, 0, 2, 2, 2, 1, 0, 2, 1, 0, 2, 0, 0, 2, 0,\n",
       "       2, 2, 2, 2, 2, 2, 1, 2, 2, 1, 2, 0, 2, 1, 2, 1, 0, 0, 2, 1, 0, 0,\n",
       "       2, 0, 2, 2, 0, 2, 1, 2, 2, 1, 0, 0, 2, 2, 2, 2, 2, 2, 1, 2, 1, 2,\n",
       "       2, 2, 2, 2, 2, 2, 1, 2, 2, 0, 2, 0, 2, 2, 2, 2, 2, 2, 0, 0, 1, 2,\n",
       "       0, 2, 2, 0, 1, 2, 2, 2, 2, 1, 0, 0, 2, 2, 2, 2, 2, 0, 2, 0, 2, 2,\n",
       "       2, 0, 2, 0, 0, 2, 2, 2, 2, 2, 0, 0, 2, 0, 2, 2, 1, 2, 0, 2, 2, 2,\n",
       "       0, 0, 0, 2, 0, 2, 0, 2, 0, 0, 1, 2, 0, 0, 0, 0, 0, 0, 0, 0, 0, 2,\n",
       "       0, 0, 0, 2, 2, 2, 0, 0, 0, 2, 0, 2, 0, 2, 2, 0, 2, 0, 0, 1, 2, 0,\n",
       "       0, 2, 0, 2, 0, 0, 2, 0, 2, 2, 0, 2, 0, 2, 2, 0, 2, 2, 0, 0, 1, 0,\n",
       "       2, 0, 0, 2, 2, 0, 2, 2, 0, 0, 0, 2, 2, 0, 2, 2, 2, 2, 2, 0, 2, 2,\n",
       "       0, 0, 0, 0, 2, 0, 1, 1, 1, 2, 2, 2, 0, 1, 0, 2, 2, 0, 0, 2, 0, 0,\n",
       "       1, 0, 1, 0, 2, 0, 0, 2, 0, 2, 0, 0, 2, 0, 2, 0, 0, 0, 2, 0, 2, 0,\n",
       "       0, 1, 0, 2, 2, 2, 2, 0, 2, 0, 0, 0, 1, 2, 2, 2, 2, 2, 2, 0, 2, 2,\n",
       "       2, 2, 0, 1, 2, 0, 2, 0, 0, 2, 0, 2, 2, 0, 1, 0, 0, 0, 2, 2, 2, 0,\n",
       "       0, 0, 0, 2, 0, 2, 2, 0, 2, 2, 1, 2, 2, 2, 2, 0, 0, 0, 0, 2, 0, 2,\n",
       "       2, 0, 0, 0, 2, 2, 2, 0, 2, 2, 2, 0, 0, 2, 1, 0, 2, 0, 0, 2, 0, 2,\n",
       "       1, 0, 0, 0, 0, 2, 2, 2, 0, 0, 0, 0, 0, 2, 2, 0, 0, 0, 2, 2, 0, 1,\n",
       "       0, 0, 2, 2, 2, 0, 0, 2, 2, 0, 2, 2, 2, 0, 2, 2, 0, 2, 0, 0, 1, 2,\n",
       "       2, 0, 1, 2, 0, 1, 0, 2, 0, 2, 2, 2, 2, 2, 2, 0])"
      ]
     },
     "execution_count": 56,
     "metadata": {},
     "output_type": "execute_result"
    }
   ],
   "source": [
    "#recodons par exemple le 'PENTE'\n",
    "le.fit_transform(df_encoded[\"PENTE\"])\n"
   ]
  },
  {
   "cell_type": "code",
   "execution_count": 57,
   "metadata": {},
   "outputs": [],
   "source": [
    "#Dans une fonction application cette modification à tout notre DataFrame\n",
    "for i in df_encoded:\n",
    "    df_encoded[i]=le.fit_transform(df_encoded[i])\n"
   ]
  },
  {
   "cell_type": "code",
   "execution_count": 58,
   "metadata": {},
   "outputs": [
    {
     "data": {
      "text/html": [
       "<div>\n",
       "<style scoped>\n",
       "    .dataframe tbody tr th:only-of-type {\n",
       "        vertical-align: middle;\n",
       "    }\n",
       "\n",
       "    .dataframe tbody tr th {\n",
       "        vertical-align: top;\n",
       "    }\n",
       "\n",
       "    .dataframe thead th {\n",
       "        text-align: right;\n",
       "    }\n",
       "</style>\n",
       "<table border=\"1\" class=\"dataframe\">\n",
       "  <thead>\n",
       "    <tr style=\"text-align: right;\">\n",
       "      <th></th>\n",
       "      <th>AGE</th>\n",
       "      <th>SEXE</th>\n",
       "      <th>TDT</th>\n",
       "      <th>PAR</th>\n",
       "      <th>CHOLESTEROL</th>\n",
       "      <th>GAJ</th>\n",
       "      <th>ECG</th>\n",
       "      <th>FCMAX</th>\n",
       "      <th>ANGINE</th>\n",
       "      <th>DEPRESSION</th>\n",
       "      <th>PENTE</th>\n",
       "      <th>CŒUR</th>\n",
       "    </tr>\n",
       "  </thead>\n",
       "  <tbody>\n",
       "    <tr>\n",
       "      <th>0</th>\n",
       "      <td>12</td>\n",
       "      <td>1</td>\n",
       "      <td>0</td>\n",
       "      <td>41</td>\n",
       "      <td>147</td>\n",
       "      <td>0</td>\n",
       "      <td>1</td>\n",
       "      <td>98</td>\n",
       "      <td>0</td>\n",
       "      <td>10</td>\n",
       "      <td>0</td>\n",
       "      <td>0</td>\n",
       "    </tr>\n",
       "    <tr>\n",
       "      <th>1</th>\n",
       "      <td>21</td>\n",
       "      <td>0</td>\n",
       "      <td>3</td>\n",
       "      <td>55</td>\n",
       "      <td>40</td>\n",
       "      <td>0</td>\n",
       "      <td>1</td>\n",
       "      <td>82</td>\n",
       "      <td>0</td>\n",
       "      <td>20</td>\n",
       "      <td>2</td>\n",
       "      <td>1</td>\n",
       "    </tr>\n",
       "    <tr>\n",
       "      <th>2</th>\n",
       "      <td>9</td>\n",
       "      <td>1</td>\n",
       "      <td>0</td>\n",
       "      <td>31</td>\n",
       "      <td>141</td>\n",
       "      <td>0</td>\n",
       "      <td>2</td>\n",
       "      <td>25</td>\n",
       "      <td>0</td>\n",
       "      <td>10</td>\n",
       "      <td>0</td>\n",
       "      <td>0</td>\n",
       "    </tr>\n",
       "    <tr>\n",
       "      <th>3</th>\n",
       "      <td>20</td>\n",
       "      <td>0</td>\n",
       "      <td>1</td>\n",
       "      <td>39</td>\n",
       "      <td>72</td>\n",
       "      <td>0</td>\n",
       "      <td>1</td>\n",
       "      <td>34</td>\n",
       "      <td>1</td>\n",
       "      <td>25</td>\n",
       "      <td>2</td>\n",
       "      <td>1</td>\n",
       "    </tr>\n",
       "    <tr>\n",
       "      <th>4</th>\n",
       "      <td>26</td>\n",
       "      <td>1</td>\n",
       "      <td>3</td>\n",
       "      <td>49</td>\n",
       "      <td>53</td>\n",
       "      <td>0</td>\n",
       "      <td>1</td>\n",
       "      <td>48</td>\n",
       "      <td>0</td>\n",
       "      <td>10</td>\n",
       "      <td>0</td>\n",
       "      <td>0</td>\n",
       "    </tr>\n",
       "  </tbody>\n",
       "</table>\n",
       "</div>"
      ],
      "text/plain": [
       "   AGE  SEXE  TDT  PAR  CHOLESTEROL  GAJ  ECG  FCMAX  ANGINE  DEPRESSION   \\\n",
       "0   12     1    0   41          147    0    1     98       0           10   \n",
       "1   21     0    3   55           40    0    1     82       0           20   \n",
       "2    9     1    0   31          141    0    2     25       0           10   \n",
       "3   20     0    1   39           72    0    1     34       1           25   \n",
       "4   26     1    3   49           53    0    1     48       0           10   \n",
       "\n",
       "   PENTE  CŒUR  \n",
       "0      0     0  \n",
       "1      2     1  \n",
       "2      0     0  \n",
       "3      2     1  \n",
       "4      0     0  "
      ]
     },
     "execution_count": 58,
     "metadata": {},
     "output_type": "execute_result"
    }
   ],
   "source": [
    "df_encoded.head()"
   ]
  },
  {
   "cell_type": "code",
   "execution_count": 59,
   "metadata": {},
   "outputs": [],
   "source": [
    "# jeu de fonctionnalités\n",
    "x=df_encoded.iloc[:,0:11]\n",
    "#l'étiquettement de notre jeu\n",
    "y=df_encoded.iloc[:,11]"
   ]
  },
  {
   "cell_type": "code",
   "execution_count": 60,
   "metadata": {},
   "outputs": [],
   "source": [
    "#preparation des donnees de test et des donnees d'entrainememnt\n",
    "x_train, x_test, y_train, y_test = train_test_split(x,y,test_size =0.2, random_state =1)"
   ]
  },
  {
   "cell_type": "code",
   "execution_count": 61,
   "metadata": {},
   "outputs": [
    {
     "name": "stdout",
     "output_type": "stream",
     "text": [
      "(734, 11) (184, 11) (734,) (184,)\n"
     ]
    }
   ],
   "source": [
    "#Vérifier le résultat\n",
    "print(x_train.shape, x_test.shape, y_train.shape, y_test.shape)"
   ]
  },
  {
   "cell_type": "code",
   "execution_count": 62,
   "metadata": {},
   "outputs": [],
   "source": [
    "#Création d'un objet model de la classe DecisionTreeClassifier\n",
    "model_DT=DecisionTreeClassifier(criterion='gini')"
   ]
  },
  {
   "cell_type": "code",
   "execution_count": 63,
   "metadata": {},
   "outputs": [
    {
     "data": {
      "text/plain": [
       "DecisionTreeClassifier()"
      ]
     },
     "execution_count": 63,
     "metadata": {},
     "output_type": "execute_result"
    }
   ],
   "source": [
    "#Apprentissage du modèle\n",
    "model_DT.fit(x_train,y_train)"
   ]
  },
  {
   "cell_type": "code",
   "execution_count": 64,
   "metadata": {},
   "outputs": [
    {
     "data": {
      "text/plain": [
       "array([[0., 1.],\n",
       "       [1., 0.],\n",
       "       [0., 1.],\n",
       "       [0., 1.],\n",
       "       [1., 0.]])"
      ]
     },
     "execution_count": 64,
     "metadata": {},
     "output_type": "execute_result"
    }
   ],
   "source": [
    "#Probabilité d'appartenance à l'une des classes\n",
    "predict_proba = model_DT.predict_proba(x_test)\n",
    "predict_proba[:5,:]"
   ]
  },
  {
   "cell_type": "code",
   "execution_count": 65,
   "metadata": {},
   "outputs": [
    {
     "data": {
      "text/plain": [
       "array([1, 0, 1, 1, 0])"
      ]
     },
     "execution_count": 65,
     "metadata": {},
     "output_type": "execute_result"
    }
   ],
   "source": [
    "#Application du modèle au données de test\n",
    "y_pred = model_DT.predict(x_test)\n",
    "y_pred[:5]"
   ]
  },
  {
   "cell_type": "code",
   "execution_count": 66,
   "metadata": {},
   "outputs": [
    {
     "data": {
      "text/plain": [
       "array([[64, 10],\n",
       "       [28, 82]])"
      ]
     },
     "execution_count": 66,
     "metadata": {},
     "output_type": "execute_result"
    }
   ],
   "source": [
    "#matrice de confusion\n",
    "mc = confusion_matrix(y_test, y_pred)\n",
    "mc"
   ]
  },
  {
   "cell_type": "code",
   "execution_count": 67,
   "metadata": {},
   "outputs": [
    {
     "data": {
      "text/plain": [
       "0.7934782608695652"
      ]
     },
     "execution_count": 67,
     "metadata": {},
     "output_type": "execute_result"
    }
   ],
   "source": [
    "#Taux de bonnes prédictions\n",
    "accuracy = accuracy_score(y_test, y_pred)\n",
    "accuracy"
   ]
  },
  {
   "cell_type": "code",
   "execution_count": 68,
   "metadata": {},
   "outputs": [
    {
     "data": {
      "text/plain": [
       "0.7454545454545455"
      ]
     },
     "execution_count": 68,
     "metadata": {},
     "output_type": "execute_result"
    }
   ],
   "source": [
    "#Sensibilité\n",
    "recall_DT = recall_score(y_test, y_pred)\n",
    "recall_DT"
   ]
  },
  {
   "cell_type": "code",
   "execution_count": 69,
   "metadata": {},
   "outputs": [
    {
     "data": {
      "text/plain": [
       "0.8913043478260869"
      ]
     },
     "execution_count": 69,
     "metadata": {},
     "output_type": "execute_result"
    }
   ],
   "source": [
    "#Précision\n",
    "precision_DT = precision_score(y_test, y_pred)\n",
    "precision_DT"
   ]
  },
  {
   "cell_type": "code",
   "execution_count": 70,
   "metadata": {},
   "outputs": [
    {
     "name": "stdout",
     "output_type": "stream",
     "text": [
      "              precision    recall  f1-score   support\n",
      "\n",
      "           0       0.70      0.86      0.77        74\n",
      "           1       0.89      0.75      0.81       110\n",
      "\n",
      "    accuracy                           0.79       184\n",
      "   macro avg       0.79      0.81      0.79       184\n",
      "weighted avg       0.81      0.79      0.80       184\n",
      "\n"
     ]
    }
   ],
   "source": [
    "#plus de détails avec classification report\n",
    "cr_DT = classification_report(y_test, y_pred)\n",
    "print(cr_DT)"
   ]
  },
  {
   "cell_type": "code",
   "execution_count": 71,
   "metadata": {},
   "outputs": [
    {
     "data": {
      "text/plain": [
       "1.0"
      ]
     },
     "execution_count": 71,
     "metadata": {},
     "output_type": "execute_result"
    }
   ],
   "source": [
    "#Score d'entrainement (le taux de bonne prédiction calculé sur la base des données d'entrainement)\n",
    "model_DT.score(x_train, y_train)"
   ]
  },
  {
   "cell_type": "code",
   "execution_count": 72,
   "metadata": {},
   "outputs": [
    {
     "data": {
      "text/plain": [
       "0.7934782608695652"
      ]
     },
     "execution_count": 72,
     "metadata": {},
     "output_type": "execute_result"
    }
   ],
   "source": [
    "#Score d'entrainement (le taux de bonne prédiction calculé sur la base des données de test)\n",
    "model_DT.score(x_test, y_test)"
   ]
  },
  {
   "cell_type": "markdown",
   "metadata": {},
   "source": [
    "# Comparaison des scores entre notre arbre de decision(DT) et notre Regression Logistic"
   ]
  },
  {
   "cell_type": "code",
   "execution_count": 73,
   "metadata": {},
   "outputs": [
    {
     "name": "stdout",
     "output_type": "stream",
     "text": [
      "Sur l'entrainement, le resultat de la Régression Logistique est inférieure à celui de l'Arbre de Décision\n"
     ]
    }
   ],
   "source": [
    "#Comparaison au niveau des  Score d'entrainement (le taux de bonne prédiction calculé sur la base des données d'entrainement)\n",
    "if model.score(x_train, y_train) > model_DT.score(x_train, y_train):\n",
    "    print(\"Sur l'entrainement, le resultat de la Régression Logistique est supérieure à celui de l'Arbre de Décision\")\n",
    "else:\n",
    "    print(\"Sur l'entrainement, le resultat de la Régression Logistique est inférieure à celui de l'Arbre de Décision\")"
   ]
  },
  {
   "cell_type": "code",
   "execution_count": 74,
   "metadata": {},
   "outputs": [
    {
     "name": "stdout",
     "output_type": "stream",
     "text": [
      "Sur l'entrainement,le resultat de la Régression Logistique est inférieure à celui de l'Arbre de Décision\n"
     ]
    }
   ],
   "source": [
    "#Comparaison au niveau des Score d'entrainement (le taux de bonne prédiction calculé sur la base des données de test)\n",
    "if model.score(x_test, y_test) > model_DT.score(x_test, y_test):\n",
    "    print(\"Sur l'entrainement,le resultat de la Régression Logistique est supérieure à celui de l'Arbre de Décision\")\n",
    "else:\n",
    "    print(\"Sur l'entrainement,le resultat de la Régression Logistique est inférieure à celui de l'Arbre de Décision\")"
   ]
  },
  {
   "cell_type": "code",
   "execution_count": 75,
   "metadata": {},
   "outputs": [
    {
     "name": "stdout",
     "output_type": "stream",
     "text": [
      "notre arbre de decision produit un bon résultat par raport à celle de la Régression Log\n"
     ]
    }
   ],
   "source": [
    "if model.score(x_train, y_train) < model_DT.score(x_train, y_train) and model.score(x_test, y_test) < model_DT.score(x_test, y_test):\n",
    "    print(\"notre arbre de decision produit un bon résultat par raport à celle de la Régression Log\")"
   ]
  },
  {
   "cell_type": "code",
   "execution_count": null,
   "metadata": {},
   "outputs": [],
   "source": []
  }
 ],
 "metadata": {
  "interpreter": {
   "hash": "bbd9ec7504cb36a9080573fe81da2d48ccdd9f519d95436eb5a9a2b641c0ee70"
  },
  "kernelspec": {
   "display_name": "Python 3.8.8 64-bit ('base': conda)",
   "language": "python",
   "name": "python3"
  },
  "language_info": {
   "codemirror_mode": {
    "name": "ipython",
    "version": 3
   },
   "file_extension": ".py",
   "mimetype": "text/x-python",
   "name": "python",
   "nbconvert_exporter": "python",
   "pygments_lexer": "ipython3",
   "version": "3.8.8"
  },
  "orig_nbformat": 4
 },
 "nbformat": 4,
 "nbformat_minor": 2
}
